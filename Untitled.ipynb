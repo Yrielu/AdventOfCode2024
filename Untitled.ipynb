{
 "cells": [
  {
   "cell_type": "code",
   "execution_count": 1,
   "id": "b2332c97-189c-4e83-b090-a7cdfbde3608",
   "metadata": {},
   "outputs": [],
   "source": [
    "import numpy as np"
   ]
  },
  {
   "cell_type": "markdown",
   "id": "6f9cf093-a81a-4bbd-83e1-ee264cf44196",
   "metadata": {},
   "source": [
    "# Day 1"
   ]
  },
  {
   "cell_type": "code",
   "execution_count": 30,
   "id": "5416419f-ee29-4a82-a4f0-975bdb307ee8",
   "metadata": {},
   "outputs": [],
   "source": [
    "data = np.loadtxt('day1.txt', unpack=True, dtype= int)\n",
    "col1 = np.sort(data[0])\n",
    "col2 = np.sort(data[1])"
   ]
  },
  {
   "cell_type": "code",
   "execution_count": 36,
   "id": "709510ec-ac5f-49fb-9434-0d698636c0c5",
   "metadata": {},
   "outputs": [
    {
     "name": "stdout",
     "output_type": "stream",
     "text": [
      "1530215\n"
     ]
    }
   ],
   "source": [
    "indv_distance = abs(col1-col2)\n",
    "tot_distance = sum(indv_distance)\n",
    "print(tot_distance)"
   ]
  },
  {
   "cell_type": "code",
   "execution_count": 13,
   "id": "85bd35c7-c73a-4b20-8515-a63ac7a59575",
   "metadata": {},
   "outputs": [
    {
     "data": {
      "text/plain": [
       "1"
      ]
     },
     "execution_count": 13,
     "metadata": {},
     "output_type": "execute_result"
    }
   ],
   "source": [
    "x= [2,3,4,1,5,6,1]\n",
    "min(x)"
   ]
  },
  {
   "cell_type": "code",
   "execution_count": 14,
   "id": "e35dad15-4267-4751-80a4-56aaae43c02e",
   "metadata": {},
   "outputs": [
    {
     "data": {
      "text/plain": [
       "\u001b[0;31mDocstring:\u001b[0m\n",
       "min(iterable, *[, default=obj, key=func]) -> value\n",
       "min(arg1, arg2, *args, *[, key=func]) -> value\n",
       "\n",
       "With a single iterable argument, return its smallest item. The\n",
       "default keyword-only argument specifies an object to return if\n",
       "the provided iterable is empty.\n",
       "With two or more arguments, return the smallest argument.\n",
       "\u001b[0;31mType:\u001b[0m      builtin_function_or_method"
      ]
     },
     "metadata": {},
     "output_type": "display_data"
    }
   ],
   "source": []
  },
  {
   "cell_type": "code",
   "execution_count": null,
   "id": "568463fb-5e67-4a55-a182-9abefe2cf12d",
   "metadata": {},
   "outputs": [],
   "source": []
  }
 ],
 "metadata": {
  "kernelspec": {
   "display_name": "Python 3 (ipykernel)",
   "language": "python",
   "name": "python3"
  },
  "language_info": {
   "codemirror_mode": {
    "name": "ipython",
    "version": 3
   },
   "file_extension": ".py",
   "mimetype": "text/x-python",
   "name": "python",
   "nbconvert_exporter": "python",
   "pygments_lexer": "ipython3",
   "version": "3.8.18"
  }
 },
 "nbformat": 4,
 "nbformat_minor": 5
}
