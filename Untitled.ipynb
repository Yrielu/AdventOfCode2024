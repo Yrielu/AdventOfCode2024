{
 "cells": [
  {
   "cell_type": "code",
   "execution_count": 1,
   "id": "b2332c97-189c-4e83-b090-a7cdfbde3608",
   "metadata": {},
   "outputs": [],
   "source": [
    "import numpy as np"
   ]
  },
  {
   "cell_type": "markdown",
   "id": "6f9cf093-a81a-4bbd-83e1-ee264cf44196",
   "metadata": {},
   "source": [
    "# Day 1"
   ]
  },
  {
   "cell_type": "code",
   "execution_count": 30,
   "id": "5416419f-ee29-4a82-a4f0-975bdb307ee8",
   "metadata": {},
   "outputs": [],
   "source": [
    "data = np.loadtxt('day1.txt', unpack=True, dtype= int)\n",
    "col1 = np.sort(data[0])\n",
    "col2 = np.sort(data[1])"
   ]
  },
  {
   "cell_type": "code",
   "execution_count": 36,
   "id": "709510ec-ac5f-49fb-9434-0d698636c0c5",
   "metadata": {},
   "outputs": [
    {
     "name": "stdout",
     "output_type": "stream",
     "text": [
      "1530215\n"
     ]
    }
   ],
   "source": [
    "indv_distance = abs(col1-col2)\n",
    "tot_distance = sum(indv_distance)\n",
    "print(tot_distance)"
   ]
  },
  {
   "cell_type": "code",
   "execution_count": 13,
   "id": "85bd35c7-c73a-4b20-8515-a63ac7a59575",
   "metadata": {},
   "outputs": [
    {
     "data": {
      "text/plain": [
       "1"
      ]
     },
     "execution_count": 13,
     "metadata": {},
     "output_type": "execute_result"
    }
   ],
   "source": [
    "x= [2,3,4,1,5,6,1]\n",
    "min(x)"
   ]
  },
  {
   "cell_type": "code",
   "execution_count": 56,
   "id": "e35dad15-4267-4751-80a4-56aaae43c02e",
   "metadata": {},
   "outputs": [],
   "source": [
    "data = np.array([[3,4,2,1,3,3],[4,3,5,3,9,3]])"
   ]
  },
  {
   "cell_type": "code",
   "execution_count": 60,
   "id": "568463fb-5e67-4a55-a182-9abefe2cf12d",
   "metadata": {},
   "outputs": [
    {
     "name": "stdout",
     "output_type": "stream",
     "text": [
      "3\n",
      "4\n",
      "2\n",
      "1\n",
      "3\n",
      "3\n"
     ]
    }
   ],
   "source": [
    "count = 0\n",
    "for num in data[0]:\n",
    "    print(num)\n",
    "   "
   ]
  },
  {
   "cell_type": "code",
   "execution_count": 68,
   "id": "155565b2-e0fa-4444-97d6-0eef6d24608a",
   "metadata": {},
   "outputs": [],
   "source": [
    "data[0][0] *= 2  "
   ]
  },
  {
   "cell_type": "code",
   "execution_count": 69,
   "id": "96e88f0a-2c0f-4963-98cb-63d256915dfb",
   "metadata": {},
   "outputs": [
    {
     "data": {
      "text/plain": [
       "array([[6, 4, 2, 1, 3, 3],\n",
       "       [4, 3, 5, 3, 9, 3]])"
      ]
     },
     "execution_count": 69,
     "metadata": {},
     "output_type": "execute_result"
    }
   ],
   "source": [
    "data"
   ]
  },
  {
   "cell_type": "code",
   "execution_count": null,
   "id": "51b42ec9-bbf6-4a18-8515-2b7367bacab2",
   "metadata": {},
   "outputs": [],
   "source": []
  }
 ],
 "metadata": {
  "kernelspec": {
   "display_name": "Python 3 (ipykernel)",
   "language": "python",
   "name": "python3"
  },
  "language_info": {
   "codemirror_mode": {
    "name": "ipython",
    "version": 3
   },
   "file_extension": ".py",
   "mimetype": "text/x-python",
   "name": "python",
   "nbconvert_exporter": "python",
   "pygments_lexer": "ipython3",
   "version": "3.8.18"
  }
 },
 "nbformat": 4,
 "nbformat_minor": 5
}
